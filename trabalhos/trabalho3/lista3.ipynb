{
 "cells": [
  {
   "cell_type": "code",
   "execution_count": 1,
   "metadata": {},
   "outputs": [],
   "source": [
    "import numpy as np\n",
    "import pandas as pd\n",
    "import matplotlib.pyplot as plt\n",
    "import seaborn as sns\n",
    "from KNearestNeighbors import *\n",
    "from sklearn.model_selection import KFold\n",
    "from sklearn.preprocessing import StandardScaler\n",
    "from sklearn.tree import DecisionTreeClassifier\n",
    "from sklearn.metrics import accuracy_score, precision_score, recall_score, f1_score"
   ]
  },
  {
   "attachments": {},
   "cell_type": "markdown",
   "metadata": {},
   "source": [
    "## Importando Dados"
   ]
  },
  {
   "cell_type": "code",
   "execution_count": 2,
   "metadata": {},
   "outputs": [],
   "source": [
    "data = pd.read_csv('./kc2.csv', header=None)\n",
    "X = data.iloc[:, :-1].values\n",
    "y = data.iloc[:, -1].values"
   ]
  },
  {
   "attachments": {},
   "cell_type": "markdown",
   "metadata": {},
   "source": [
    "## K Nearest Neighbors"
   ]
  },
  {
   "attachments": {},
   "cell_type": "markdown",
   "metadata": {},
   "source": [
    "### Treinando o modelo"
   ]
  },
  {
   "cell_type": "code",
   "execution_count": 3,
   "metadata": {},
   "outputs": [],
   "source": [
    "folder = KFold(n_splits=10)\n",
    "normalizer = StandardScaler()\n",
    "euc_1_model = KNearestNeighbors(1)\n",
    "euc_5_model = KNearestNeighbors()\n",
    "mah_1_model = KNearestNeighbors(1, 'mahalanobis')\n",
    "mah_5_model = KNearestNeighbors(metric='mahalanobis')\n",
    "\n",
    "metrics = np.zeros((4, 10, 4))\n",
    "\n",
    "for i, (train_index, test_index) in enumerate(folder.split(X)):\n",
    "    X_train, X_test = X[train_index], X[test_index]\n",
    "    y_train, y_test = y[train_index], y[test_index]\n",
    "\n",
    "    X_train = normalizer.fit_transform(X_train)\n",
    "    X_test = normalizer.transform(X_test)\n",
    "    \n",
    "    euc_1_model.fit(X_train, y_train)\n",
    "    euc_5_model.fit(X_train, y_train)\n",
    "    mah_1_model.fit(X_train, y_train)\n",
    "    mah_5_model.fit(X_train, y_train)\n",
    "    \n",
    "    euc_1_pred = euc_1_model.pred(X_test)\n",
    "    euc_5_pred = euc_1_model.pred(X_test)\n",
    "    mah_1_pred = euc_1_model.pred(X_test)\n",
    "    mah_5_pred = euc_1_model.pred(X_test)\n",
    "    \n",
    "    metrics[0][i] = np.array([accuracy_score(y_test, euc_1_pred),\n",
    "                              recall_score(y_test, euc_1_pred, zero_division=0),\n",
    "                              precision_score(y_test, euc_1_pred),\n",
    "                              f1_score(y_test, euc_1_pred)])\n",
    "    \n",
    "    metrics[1][i] = np.array([accuracy_score(y_test, euc_5_pred),\n",
    "                              recall_score(y_test, euc_5_pred, zero_division=0),\n",
    "                              precision_score(y_test, euc_5_pred),\n",
    "                              f1_score(y_test, euc_5_pred)])\n",
    "    \n",
    "    metrics[2][i] = np.array([accuracy_score(y_test, mah_1_pred),\n",
    "                              recall_score(y_test, mah_1_pred, zero_division=0),\n",
    "                              precision_score(y_test, mah_1_pred),\n",
    "                              f1_score(y_test, mah_1_pred)])\n",
    "    \n",
    "    metrics[3][i] = np.array([accuracy_score(y_test, mah_5_pred),\n",
    "                              recall_score(y_test, mah_5_pred, zero_division=0),\n",
    "                              precision_score(y_test, mah_5_pred),\n",
    "                              f1_score(y_test, mah_5_pred)])\n",
    "    "
   ]
  },
  {
   "attachments": {},
   "cell_type": "markdown",
   "metadata": {},
   "source": [
    "## Árvore de Decisão"
   ]
  },
  {
   "attachments": {},
   "cell_type": "markdown",
   "metadata": {},
   "source": [
    "### Treinando o modelo"
   ]
  },
  {
   "cell_type": "code",
   "execution_count": 6,
   "metadata": {},
   "outputs": [],
   "source": [
    "folder = KFold(n_splits=10)\n",
    "gini_model = DecisionTreeClassifier(criterion='gini')\n",
    "entropy_model = DecisionTreeClassifier(criterion='entropy')\n",
    "\n",
    "metrics = np.zeros((2, 10, 4))\n",
    "\n",
    "for i, (train_index, test_index) in enumerate(folder.split(X)):\n",
    "    X_train, X_test = X[train_index], X[test_index]\n",
    "    y_train, y_test = y[train_index], y[test_index]\n",
    "    \n",
    "    gini_model.fit(X_train, y_train)\n",
    "    entropy_model.fit(X_train, y_train)\n",
    "    \n",
    "    gini_pred = gini_model.predict(X_test)\n",
    "    entropy_pred = entropy_model.predict(X_test)\n",
    "    \n",
    "    metrics[0][i] = np.array([accuracy_score(y_test, gini_pred),\n",
    "                              recall_score(y_test, gini_pred, zero_division=0),\n",
    "                              precision_score(y_test, gini_pred),\n",
    "                              f1_score(y_test, gini_pred)])\n",
    "    \n",
    "    metrics[1][i] = np.array([accuracy_score(y_test, entropy_pred),\n",
    "                              recall_score(y_test, entropy_pred, zero_division=0),\n",
    "                              precision_score(y_test, entropy_pred),\n",
    "                              f1_score(y_test, entropy_pred)])\n",
    "    "
   ]
  },
  {
   "attachments": {},
   "cell_type": "markdown",
   "metadata": {},
   "source": [
    "### Plotando os resultados"
   ]
  },
  {
   "cell_type": "code",
   "execution_count": null,
   "metadata": {},
   "outputs": [],
   "source": [
    "fig, (ax1, ax2) = plt.subplots(2, 3, figsize=(18, 9))\n",
    "\n",
    "x_labels = ['Acurácia', 'Revocação', 'Precisão', 'F1-score']\n",
    "\n",
    "gini_fold = sns.heatmap(metrics[0], annot=True, xticklabels=x_labels, ax=ax1[0])\n",
    "gini_mean = sns.heatmap([np.mean(metrics[0], axis=0)], annot=True, xticklabels=x_labels, ax=ax1[1])\n",
    "gini_standard = sns.heatmap([np.std(metrics[0], axis=0, ddof=1)], annot=True, xticklabels=x_labels, ax=ax1[2])\n",
    "\n",
    "entropy_fold = sns.heatmap(metrics[1], annot=True, xticklabels=x_labels, ax=ax2[0])\n",
    "entropy_mean = sns.heatmap([np.mean(metrics[1], axis=0)], annot=True, xticklabels=x_labels, ax=ax2[1])\n",
    "entropy_standard = sns.heatmap([np.std(metrics[1], axis=0, ddof=1)], annot=True, xticklabels=x_labels, ax=ax2[2])\n",
    "\n",
    "ax1[0].set_title('Métricas por cada partição')\n",
    "ax1[1].set_title('Média das métricas')\n",
    "ax1[2].set_title('Desvio padrão das métricas')\n",
    "ax1[0].set_ylabel('Usando índice de Gini')\n",
    "\n",
    "ax2[0].set_title('Métricas por cada partição')\n",
    "ax2[1].set_title('Média das métricas')\n",
    "ax2[2].set_title('Desvio padrão das métricas')\n",
    "ax2[0].set_ylabel('Usando índice de Entropia')\n",
    "\n",
    "plt.show()"
   ]
  },
  {
   "cell_type": "code",
   "execution_count": null,
   "metadata": {},
   "outputs": [],
   "source": []
  }
 ],
 "metadata": {
  "kernelspec": {
   "display_name": "Python 3 (ipykernel)",
   "language": "python",
   "name": "python3"
  },
  "language_info": {
   "codemirror_mode": {
    "name": "ipython",
    "version": 3
   },
   "file_extension": ".py",
   "mimetype": "text/x-python",
   "name": "python",
   "nbconvert_exporter": "python",
   "pygments_lexer": "ipython3",
   "version": "3.10.4"
  },
  "orig_nbformat": 4
 },
 "nbformat": 4,
 "nbformat_minor": 2
}
